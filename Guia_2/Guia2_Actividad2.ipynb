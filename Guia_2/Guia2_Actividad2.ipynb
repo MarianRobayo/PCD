{
 "cells": [
  {
   "cell_type": "markdown",
   "id": "a8aa9ae9-4514-4586-8d95-ef8d8aad02bf",
   "metadata": {},
   "source": [
    "# Maestria en Ciencia de Datos\n",
    "\r",
    "## Programación para la Ciencia de Datos\n",
    "\n",
    "### Guia 2\n",
    "\n",
    "### Actividad 2. Transformación de datos"
   ]
  },
  {
   "cell_type": "markdown",
   "id": "00a06f5c-fd0e-4bdf-9b66-2b2523953362",
   "metadata": {},
   "source": [
    "<p>La primera parte de este cuadernillo contiene la misma información del cuadernillo de la actividad 1, a partir de la linea [] inician las actividades especificas de la actividad 2.</p>"
   ]
  },
  {
   "cell_type": "code",
   "execution_count": 3,
   "id": "66e19ba5-4308-448a-ac70-65b5da30a010",
   "metadata": {},
   "outputs": [],
   "source": [
    "#importando la libreria de pandas para leer el conjunto de datos\n",
    "import pandas as pd"
   ]
  },
  {
   "cell_type": "code",
   "execution_count": 5,
   "id": "84a100c6-8687-48f3-ad92-76bd0876c7b8",
   "metadata": {},
   "outputs": [],
   "source": [
    "#leyendo el conjunto de datos y almacenandolo en la variable df\n",
    "df = pd.read_csv ('10.000_Empresas_mas_Grandes_del_Pa_s_20240822.csv')"
   ]
  },
  {
   "cell_type": "code",
   "execution_count": 7,
   "id": "d6009575-c119-439f-83bd-4274c9aec6cd",
   "metadata": {
    "scrolled": true
   },
   "outputs": [
    {
     "data": {
      "text/html": [
       "<div>\n",
       "<style scoped>\n",
       "    .dataframe tbody tr th:only-of-type {\n",
       "        vertical-align: middle;\n",
       "    }\n",
       "\n",
       "    .dataframe tbody tr th {\n",
       "        vertical-align: top;\n",
       "    }\n",
       "\n",
       "    .dataframe thead th {\n",
       "        text-align: right;\n",
       "    }\n",
       "</style>\n",
       "<table border=\"1\" class=\"dataframe\">\n",
       "  <thead>\n",
       "    <tr style=\"text-align: right;\">\n",
       "      <th></th>\n",
       "      <th>NIT</th>\n",
       "      <th>RAZÓN SOCIAL</th>\n",
       "      <th>SUPERVISOR</th>\n",
       "      <th>REGIÓN</th>\n",
       "      <th>DEPARTAMENTO DOMICILIO</th>\n",
       "      <th>CIUDAD DOMICILIO</th>\n",
       "      <th>CIIU</th>\n",
       "      <th>MACROSECTOR</th>\n",
       "      <th>INGRESOS OPERACIONALES</th>\n",
       "      <th>GANANCIA (PÉRDIDA)</th>\n",
       "      <th>TOTAL ACTIVOS</th>\n",
       "      <th>TOTAL PASIVOS</th>\n",
       "      <th>TOTAL PATRIMONIO</th>\n",
       "      <th>Año de Corte</th>\n",
       "    </tr>\n",
       "  </thead>\n",
       "  <tbody>\n",
       "    <tr>\n",
       "      <th>0</th>\n",
       "      <td>899999068</td>\n",
       "      <td>ECOPETROL S.A</td>\n",
       "      <td>SUPERFINANCIERA</td>\n",
       "      <td>Bogotá - Cundinamarca</td>\n",
       "      <td>BOGOTA D.C.</td>\n",
       "      <td>BOGOTA D.C.-BOGOTA D.C.</td>\n",
       "      <td>610</td>\n",
       "      <td>MINERO</td>\n",
       "      <td>$144.82</td>\n",
       "      <td>$33.41</td>\n",
       "      <td>$216.85</td>\n",
       "      <td>$125.81</td>\n",
       "      <td>$91.03</td>\n",
       "      <td>2022</td>\n",
       "    </tr>\n",
       "    <tr>\n",
       "      <th>1</th>\n",
       "      <td>900112515</td>\n",
       "      <td>REFINERIA DE CARTAGENA S.A.S</td>\n",
       "      <td>SUPERSOCIEDADES</td>\n",
       "      <td>Costa Atlántica</td>\n",
       "      <td>BOLIVAR</td>\n",
       "      <td>CARTAGENA-BOLIVAR</td>\n",
       "      <td>1921</td>\n",
       "      <td>MANUFACTURA</td>\n",
       "      <td>$27.86</td>\n",
       "      <td>$2.19</td>\n",
       "      <td>$42.84</td>\n",
       "      <td>$16.48</td>\n",
       "      <td>$26.36</td>\n",
       "      <td>2022</td>\n",
       "    </tr>\n",
       "    <tr>\n",
       "      <th>2</th>\n",
       "      <td>830095213</td>\n",
       "      <td>ORGANIZACIÓN TERPEL S.A.</td>\n",
       "      <td>SUPERFINANCIERA</td>\n",
       "      <td>Bogotá - Cundinamarca</td>\n",
       "      <td>BOGOTA D.C.</td>\n",
       "      <td>BOGOTA D.C.-BOGOTA D.C.</td>\n",
       "      <td>4661</td>\n",
       "      <td>COMERCIO</td>\n",
       "      <td>$23.60</td>\n",
       "      <td>$0.33</td>\n",
       "      <td>$7.48</td>\n",
       "      <td>$4.47</td>\n",
       "      <td>$3.01</td>\n",
       "      <td>2022</td>\n",
       "    </tr>\n",
       "    <tr>\n",
       "      <th>3</th>\n",
       "      <td>860069804</td>\n",
       "      <td>CARBONES DEL CERREJON LIMITED</td>\n",
       "      <td>SUPERSOCIEDADES</td>\n",
       "      <td>Bogotá - Cundinamarca</td>\n",
       "      <td>BOGOTA D.C.</td>\n",
       "      <td>BOGOTA D.C.-BOGOTA D.C.</td>\n",
       "      <td>510</td>\n",
       "      <td>MINERO</td>\n",
       "      <td>$16.39</td>\n",
       "      <td>$6.05</td>\n",
       "      <td>$10.45</td>\n",
       "      <td>$9.00</td>\n",
       "      <td>$1.45</td>\n",
       "      <td>2022</td>\n",
       "    </tr>\n",
       "    <tr>\n",
       "      <th>4</th>\n",
       "      <td>800021308</td>\n",
       "      <td>DRUMMOND LTD</td>\n",
       "      <td>SUPERSOCIEDADES</td>\n",
       "      <td>Bogotá - Cundinamarca</td>\n",
       "      <td>BOGOTA D.C.</td>\n",
       "      <td>BOGOTA D.C.-BOGOTA D.C.</td>\n",
       "      <td>510</td>\n",
       "      <td>MINERO</td>\n",
       "      <td>$15.27</td>\n",
       "      <td>$2.16</td>\n",
       "      <td>$14.27</td>\n",
       "      <td>$6.34</td>\n",
       "      <td>$7.93</td>\n",
       "      <td>2022</td>\n",
       "    </tr>\n",
       "    <tr>\n",
       "      <th>...</th>\n",
       "      <td>...</td>\n",
       "      <td>...</td>\n",
       "      <td>...</td>\n",
       "      <td>...</td>\n",
       "      <td>...</td>\n",
       "      <td>...</td>\n",
       "      <td>...</td>\n",
       "      <td>...</td>\n",
       "      <td>...</td>\n",
       "      <td>...</td>\n",
       "      <td>...</td>\n",
       "      <td>...</td>\n",
       "      <td>...</td>\n",
       "      <td>...</td>\n",
       "    </tr>\n",
       "    <tr>\n",
       "      <th>19995</th>\n",
       "      <td>900440256</td>\n",
       "      <td>EFIVENTAS Y SERVICIOS SAS</td>\n",
       "      <td>SUPERSOCIEDADES</td>\n",
       "      <td>Costa Atlántica</td>\n",
       "      <td>ATLANTICO</td>\n",
       "      <td>BARRANQUILLA-ATLANTICO</td>\n",
       "      <td>7490</td>\n",
       "      <td>SERVICIOS</td>\n",
       "      <td>$0.01</td>\n",
       "      <td>$0.00</td>\n",
       "      <td>$0.01</td>\n",
       "      <td>$0.01</td>\n",
       "      <td>$0.00</td>\n",
       "      <td>2021</td>\n",
       "    </tr>\n",
       "    <tr>\n",
       "      <th>19996</th>\n",
       "      <td>890115230</td>\n",
       "      <td>QUIMIFEX SAS</td>\n",
       "      <td>SUPERSOCIEDADES</td>\n",
       "      <td>Costa Atlántica</td>\n",
       "      <td>ATLANTICO</td>\n",
       "      <td>BARRANQUILLA-ATLANTICO</td>\n",
       "      <td>4664</td>\n",
       "      <td>COMERCIO</td>\n",
       "      <td>$0.01</td>\n",
       "      <td>$0.00</td>\n",
       "      <td>$0.01</td>\n",
       "      <td>$0.01</td>\n",
       "      <td>$0.00</td>\n",
       "      <td>2021</td>\n",
       "    </tr>\n",
       "    <tr>\n",
       "      <th>19997</th>\n",
       "      <td>901021850</td>\n",
       "      <td>EDGE NETWORK SERVICES COLOMBIA SAS</td>\n",
       "      <td>SUPERSOCIEDADES</td>\n",
       "      <td>Bogotá - Cundinamarca</td>\n",
       "      <td>BOGOTA D.C.</td>\n",
       "      <td>BOGOTA D.C.-BOGOTA D.C.</td>\n",
       "      <td>6190</td>\n",
       "      <td>SERVICIOS</td>\n",
       "      <td>$0.01</td>\n",
       "      <td>$0.00</td>\n",
       "      <td>$0.04</td>\n",
       "      <td>$0.00</td>\n",
       "      <td>$0.04</td>\n",
       "      <td>2021</td>\n",
       "    </tr>\n",
       "    <tr>\n",
       "      <th>19998</th>\n",
       "      <td>900350192</td>\n",
       "      <td>DESTINO COMERCIAL SAS</td>\n",
       "      <td>SUPERSOCIEDADES</td>\n",
       "      <td>Antioquia</td>\n",
       "      <td>ANTIOQUIA</td>\n",
       "      <td>SABANETA-ANTIOQUIA</td>\n",
       "      <td>4771</td>\n",
       "      <td>COMERCIO</td>\n",
       "      <td>$0.01</td>\n",
       "      <td>$0.00</td>\n",
       "      <td>$0.01</td>\n",
       "      <td>$0.00</td>\n",
       "      <td>$0.00</td>\n",
       "      <td>2021</td>\n",
       "    </tr>\n",
       "    <tr>\n",
       "      <th>19999</th>\n",
       "      <td>830123119</td>\n",
       "      <td>DISTRIBUIDORA DE MAQUINARIA AGRICOLA Y PECUARI...</td>\n",
       "      <td>SUPERSOCIEDADES</td>\n",
       "      <td>Bogotá - Cundinamarca</td>\n",
       "      <td>CUNDINAMARCA</td>\n",
       "      <td>CHIA-CUNDINAMARCA</td>\n",
       "      <td>4653</td>\n",
       "      <td>COMERCIO</td>\n",
       "      <td>$0.01</td>\n",
       "      <td>$0.00</td>\n",
       "      <td>$0.01</td>\n",
       "      <td>$0.01</td>\n",
       "      <td>$0.00</td>\n",
       "      <td>2021</td>\n",
       "    </tr>\n",
       "  </tbody>\n",
       "</table>\n",
       "<p>20000 rows × 14 columns</p>\n",
       "</div>"
      ],
      "text/plain": [
       "             NIT                                       RAZÓN SOCIAL  \\\n",
       "0      899999068                                      ECOPETROL S.A   \n",
       "1      900112515                       REFINERIA DE CARTAGENA S.A.S   \n",
       "2      830095213                           ORGANIZACIÓN TERPEL S.A.   \n",
       "3      860069804                      CARBONES DEL CERREJON LIMITED   \n",
       "4      800021308                                       DRUMMOND LTD   \n",
       "...          ...                                                ...   \n",
       "19995  900440256                          EFIVENTAS Y SERVICIOS SAS   \n",
       "19996  890115230                                       QUIMIFEX SAS   \n",
       "19997  901021850                 EDGE NETWORK SERVICES COLOMBIA SAS   \n",
       "19998  900350192                              DESTINO COMERCIAL SAS   \n",
       "19999  830123119  DISTRIBUIDORA DE MAQUINARIA AGRICOLA Y PECUARI...   \n",
       "\n",
       "            SUPERVISOR                 REGIÓN DEPARTAMENTO DOMICILIO  \\\n",
       "0      SUPERFINANCIERA  Bogotá - Cundinamarca            BOGOTA D.C.   \n",
       "1      SUPERSOCIEDADES        Costa Atlántica                BOLIVAR   \n",
       "2      SUPERFINANCIERA  Bogotá - Cundinamarca            BOGOTA D.C.   \n",
       "3      SUPERSOCIEDADES  Bogotá - Cundinamarca            BOGOTA D.C.   \n",
       "4      SUPERSOCIEDADES  Bogotá - Cundinamarca            BOGOTA D.C.   \n",
       "...                ...                    ...                    ...   \n",
       "19995  SUPERSOCIEDADES        Costa Atlántica              ATLANTICO   \n",
       "19996  SUPERSOCIEDADES        Costa Atlántica              ATLANTICO   \n",
       "19997  SUPERSOCIEDADES  Bogotá - Cundinamarca            BOGOTA D.C.   \n",
       "19998  SUPERSOCIEDADES              Antioquia              ANTIOQUIA   \n",
       "19999  SUPERSOCIEDADES  Bogotá - Cundinamarca           CUNDINAMARCA   \n",
       "\n",
       "              CIUDAD DOMICILIO  CIIU  MACROSECTOR INGRESOS OPERACIONALES  \\\n",
       "0      BOGOTA D.C.-BOGOTA D.C.   610       MINERO                $144.82   \n",
       "1            CARTAGENA-BOLIVAR  1921  MANUFACTURA                 $27.86   \n",
       "2      BOGOTA D.C.-BOGOTA D.C.  4661     COMERCIO                 $23.60   \n",
       "3      BOGOTA D.C.-BOGOTA D.C.   510       MINERO                 $16.39   \n",
       "4      BOGOTA D.C.-BOGOTA D.C.   510       MINERO                 $15.27   \n",
       "...                        ...   ...          ...                    ...   \n",
       "19995   BARRANQUILLA-ATLANTICO  7490    SERVICIOS                  $0.01   \n",
       "19996   BARRANQUILLA-ATLANTICO  4664     COMERCIO                  $0.01   \n",
       "19997  BOGOTA D.C.-BOGOTA D.C.  6190    SERVICIOS                  $0.01   \n",
       "19998       SABANETA-ANTIOQUIA  4771     COMERCIO                  $0.01   \n",
       "19999        CHIA-CUNDINAMARCA  4653     COMERCIO                  $0.01   \n",
       "\n",
       "      GANANCIA (PÉRDIDA) TOTAL ACTIVOS TOTAL PASIVOS TOTAL PATRIMONIO  \\\n",
       "0                 $33.41       $216.85       $125.81           $91.03   \n",
       "1                  $2.19        $42.84        $16.48           $26.36   \n",
       "2                  $0.33         $7.48         $4.47            $3.01   \n",
       "3                  $6.05        $10.45         $9.00            $1.45   \n",
       "4                  $2.16        $14.27         $6.34            $7.93   \n",
       "...                  ...           ...           ...              ...   \n",
       "19995              $0.00         $0.01         $0.01            $0.00   \n",
       "19996              $0.00         $0.01         $0.01            $0.00   \n",
       "19997              $0.00         $0.04         $0.00            $0.04   \n",
       "19998              $0.00         $0.01         $0.00            $0.00   \n",
       "19999              $0.00         $0.01         $0.01            $0.00   \n",
       "\n",
       "       Año de Corte  \n",
       "0              2022  \n",
       "1              2022  \n",
       "2              2022  \n",
       "3              2022  \n",
       "4              2022  \n",
       "...             ...  \n",
       "19995          2021  \n",
       "19996          2021  \n",
       "19997          2021  \n",
       "19998          2021  \n",
       "19999          2021  \n",
       "\n",
       "[20000 rows x 14 columns]"
      ]
     },
     "execution_count": 7,
     "metadata": {},
     "output_type": "execute_result"
    }
   ],
   "source": [
    "#mostrando el conjunto de datos\n",
    "df"
   ]
  },
  {
   "cell_type": "markdown",
   "id": "5410f5ec-48d1-456f-94d8-ca56572b75c9",
   "metadata": {},
   "source": [
    "<p>Descripción de los tipos de variables del conjunto de datos:</p>"
   ]
  },
  {
   "cell_type": "code",
   "execution_count": 9,
   "id": "80583964-a908-445b-a0eb-d4821b74aaed",
   "metadata": {},
   "outputs": [
    {
     "name": "stdout",
     "output_type": "stream",
     "text": [
      "<class 'pandas.core.frame.DataFrame'>\n",
      "RangeIndex: 20000 entries, 0 to 19999\n",
      "Data columns (total 14 columns):\n",
      " #   Column                  Non-Null Count  Dtype \n",
      "---  ------                  --------------  ----- \n",
      " 0   NIT                     20000 non-null  int64 \n",
      " 1   RAZÓN SOCIAL            19998 non-null  object\n",
      " 2   SUPERVISOR              20000 non-null  object\n",
      " 3   REGIÓN                  20000 non-null  object\n",
      " 4   DEPARTAMENTO DOMICILIO  20000 non-null  object\n",
      " 5   CIUDAD DOMICILIO        20000 non-null  object\n",
      " 6   CIIU                    20000 non-null  int64 \n",
      " 7   MACROSECTOR             20000 non-null  object\n",
      " 8   INGRESOS OPERACIONALES  20000 non-null  object\n",
      " 9   GANANCIA (PÉRDIDA)      20000 non-null  object\n",
      " 10  TOTAL ACTIVOS           20000 non-null  object\n",
      " 11  TOTAL PASIVOS           20000 non-null  object\n",
      " 12  TOTAL PATRIMONIO        20000 non-null  object\n",
      " 13  Año de Corte            20000 non-null  int64 \n",
      "dtypes: int64(3), object(11)\n",
      "memory usage: 2.1+ MB\n"
     ]
    }
   ],
   "source": [
    "#1. Para la descripción de los tipos de variables utilizaremos la siguiente función:\n",
    "df.info()"
   ]
  },
  {
   "cell_type": "markdown",
   "id": "569969c7-32ac-4522-b751-baebdc5fdbac",
   "metadata": {},
   "source": [
    "<p>Descripción de los tipos de variables a paritr del resultado de la función df.info()</p>\n",
    "\n",
    "<p>Variables:</p>\n",
    "\n",
    "<p>De acuerdo con la penultima linea del resultado de la función ejecutada, el conjunto de datos tiene 3 variables de tipo entero y 9 de tipo no indentificado, sin embargo, con la revisión de una muestra de la base se identifican los tipos de variables que no identifica la funcion \"info\". A continuación se describe cada una de ellas:</p>\n",
    "\n",
    "<p>NIT es de tipo entero</p>\n",
    "<p>RAZÓN SOCIAL es de tipo texto</p>  \n",
    "<p>SUPERVISOR es de tipo texto</p>  \n",
    "<p>REGIÓN es de tipo texto</p>  \n",
    "<p>DEPARTAMENTO DOMICILIO es de tipo texto</p>  \n",
    "<p>CIUDAD DOMICILIO es de tipo texto</p>\n",
    "<p>CIIU es de tipo entero</p>  \n",
    "<p>MACROSECTOR es de tipo texto</p>  \n",
    "<p>INGRESOS OPERACIONALES de tipo texto</p>  \n",
    "<p>GANANCIA (PÉRDIDA)  es de tipo texto</p>  \n",
    "<p>TOTAL ACTIVOS es de tipo texto</p>  \n",
    "<p>TOTAL PASIVOS es de tipo texto</p>  \n",
    "<p>TOTAL PATRIMONIO es de tipo texto</p>\n",
    "<p>Año de Corte es de tipo entero</p>"
   ]
  },
  {
   "cell_type": "raw",
   "id": "b0a15cc9-1c3b-4dab-959c-ca8f1332a627",
   "metadata": {},
   "source": [
    "1. Transformación del tipo de dato"
   ]
  },
  {
   "cell_type": "code",
   "execution_count": 11,
   "id": "b024d8ba-b4a5-4378-9f0e-75ff2e92c502",
   "metadata": {},
   "outputs": [],
   "source": [
    "# Las variables correspondientes a ingresos operacionales, ganancia, activos, pasivos y patrimonio se presentan en billones de pesos y estan antecedidas\n",
    "# por el signo '$', para un mejor tratamiento de la información eliminaremos este simbolo en los datos, así lo podremos trabajar más adelante como \n",
    "# valores (realizando las transformaciones adecuadas).\n",
    "\n",
    "df['INGRESOS OPERACIONALES'] = df['INGRESOS OPERACIONALES'].str.replace('$','')"
   ]
  },
  {
   "cell_type": "code",
   "execution_count": 13,
   "id": "c6749209-f4df-4cd1-a773-af2ddc65f8b0",
   "metadata": {},
   "outputs": [
    {
     "data": {
      "text/plain": [
       "0        144.82\n",
       "1         27.86\n",
       "2         23.60\n",
       "3         16.39\n",
       "4         15.27\n",
       "          ...  \n",
       "19995      0.01\n",
       "19996      0.01\n",
       "19997      0.01\n",
       "19998      0.01\n",
       "19999      0.01\n",
       "Name: INGRESOS OPERACIONALES, Length: 20000, dtype: object"
      ]
     },
     "execution_count": 13,
     "metadata": {},
     "output_type": "execute_result"
    }
   ],
   "source": [
    "df['INGRESOS OPERACIONALES']"
   ]
  },
  {
   "cell_type": "code",
   "execution_count": 15,
   "id": "10df7b04-b208-4e39-a03b-689b1af15464",
   "metadata": {},
   "outputs": [],
   "source": [
    "#Tambien para un mejor tratamiento de los datos, cambiaremos los espacios en los nombres de las variables por guiones bajos \"_\"\n",
    "df = df.rename(columns={'INGRESOS OPERACIONALES': 'INGRESOS_OPERACIONALES', 'GANANCIA (PÉRDIDA)': 'GANANCIA_PERDIDA', 'TOTAL ACTIVOS':'TOTAL_ACTIVOS','TOTAL PASIVOS':'TOTAL_PASIVOS', 'TOTAL PATRIMONIO':'TOTAL_PATRIMONIO'})"
   ]
  },
  {
   "cell_type": "code",
   "execution_count": 17,
   "id": "da04d8d5-9d1d-4709-ac62-e6e86144527a",
   "metadata": {},
   "outputs": [
    {
     "name": "stdout",
     "output_type": "stream",
     "text": [
      "<class 'pandas.core.frame.DataFrame'>\n",
      "RangeIndex: 20000 entries, 0 to 19999\n",
      "Data columns (total 14 columns):\n",
      " #   Column                  Non-Null Count  Dtype \n",
      "---  ------                  --------------  ----- \n",
      " 0   NIT                     20000 non-null  int64 \n",
      " 1   RAZÓN SOCIAL            19998 non-null  object\n",
      " 2   SUPERVISOR              20000 non-null  object\n",
      " 3   REGIÓN                  20000 non-null  object\n",
      " 4   DEPARTAMENTO DOMICILIO  20000 non-null  object\n",
      " 5   CIUDAD DOMICILIO        20000 non-null  object\n",
      " 6   CIIU                    20000 non-null  int64 \n",
      " 7   MACROSECTOR             20000 non-null  object\n",
      " 8   INGRESOS_OPERACIONALES  20000 non-null  object\n",
      " 9   GANANCIA_PERDIDA        20000 non-null  object\n",
      " 10  TOTAL_ACTIVOS           20000 non-null  object\n",
      " 11  TOTAL_PASIVOS           20000 non-null  object\n",
      " 12  TOTAL_PATRIMONIO        20000 non-null  object\n",
      " 13  Año de Corte            20000 non-null  int64 \n",
      "dtypes: int64(3), object(11)\n",
      "memory usage: 2.1+ MB\n"
     ]
    }
   ],
   "source": [
    "df.info()"
   ]
  },
  {
   "cell_type": "markdown",
   "id": "a1102136-85a3-4b9e-a66f-372850ba56d9",
   "metadata": {},
   "source": [
    "<p>Como podemos apreciar, ya quedaron efectuados los cambios de nombre de las columnas. Ahora reemplazaremos el simbolo \"$\" en las otras 4 columnas.</p>"
   ]
  },
  {
   "cell_type": "code",
   "execution_count": 19,
   "id": "1dea4c00-ec92-4019-a127-094bd8941f9f",
   "metadata": {},
   "outputs": [],
   "source": [
    "df['GANANCIA_PERDIDA'] = df['GANANCIA_PERDIDA'].str.replace('$','')"
   ]
  },
  {
   "cell_type": "code",
   "execution_count": 21,
   "id": "7222f4b5-6408-4170-a6ed-7a5ff2d6f9fe",
   "metadata": {},
   "outputs": [],
   "source": [
    "df['TOTAL_ACTIVOS'] = df['TOTAL_ACTIVOS'].str.replace('$','')"
   ]
  },
  {
   "cell_type": "code",
   "execution_count": 23,
   "id": "92fcb349-0a07-4165-b4bb-19e6def58f63",
   "metadata": {},
   "outputs": [],
   "source": [
    "df['TOTAL_PASIVOS'] = df['TOTAL_PASIVOS'].str.replace('$','')"
   ]
  },
  {
   "cell_type": "code",
   "execution_count": 25,
   "id": "b66901c8-b9ff-4061-80b6-872fd8ae9c09",
   "metadata": {},
   "outputs": [],
   "source": [
    "df['TOTAL_PASIVOS'] = df['TOTAL_PASIVOS'].str.replace('$','')"
   ]
  },
  {
   "cell_type": "code",
   "execution_count": 27,
   "id": "688bbd2f-2c4b-445a-85f2-f6cc4848e0be",
   "metadata": {},
   "outputs": [],
   "source": [
    "df['TOTAL_PATRIMONIO'] = df['TOTAL_PATRIMONIO'].str.replace('$','')"
   ]
  },
  {
   "cell_type": "code",
   "execution_count": 29,
   "id": "54b8992b-7fca-4fa1-a829-bea21891b91c",
   "metadata": {},
   "outputs": [
    {
     "data": {
      "text/html": [
       "<div>\n",
       "<style scoped>\n",
       "    .dataframe tbody tr th:only-of-type {\n",
       "        vertical-align: middle;\n",
       "    }\n",
       "\n",
       "    .dataframe tbody tr th {\n",
       "        vertical-align: top;\n",
       "    }\n",
       "\n",
       "    .dataframe thead th {\n",
       "        text-align: right;\n",
       "    }\n",
       "</style>\n",
       "<table border=\"1\" class=\"dataframe\">\n",
       "  <thead>\n",
       "    <tr style=\"text-align: right;\">\n",
       "      <th></th>\n",
       "      <th>NIT</th>\n",
       "      <th>RAZÓN SOCIAL</th>\n",
       "      <th>SUPERVISOR</th>\n",
       "      <th>REGIÓN</th>\n",
       "      <th>DEPARTAMENTO DOMICILIO</th>\n",
       "      <th>CIUDAD DOMICILIO</th>\n",
       "      <th>CIIU</th>\n",
       "      <th>MACROSECTOR</th>\n",
       "      <th>INGRESOS_OPERACIONALES</th>\n",
       "      <th>GANANCIA_PERDIDA</th>\n",
       "      <th>TOTAL_ACTIVOS</th>\n",
       "      <th>TOTAL_PASIVOS</th>\n",
       "      <th>TOTAL_PATRIMONIO</th>\n",
       "      <th>Año de Corte</th>\n",
       "    </tr>\n",
       "  </thead>\n",
       "  <tbody>\n",
       "    <tr>\n",
       "      <th>0</th>\n",
       "      <td>899999068</td>\n",
       "      <td>ECOPETROL S.A</td>\n",
       "      <td>SUPERFINANCIERA</td>\n",
       "      <td>Bogotá - Cundinamarca</td>\n",
       "      <td>BOGOTA D.C.</td>\n",
       "      <td>BOGOTA D.C.-BOGOTA D.C.</td>\n",
       "      <td>610</td>\n",
       "      <td>MINERO</td>\n",
       "      <td>144.82</td>\n",
       "      <td>33.41</td>\n",
       "      <td>216.85</td>\n",
       "      <td>125.81</td>\n",
       "      <td>91.03</td>\n",
       "      <td>2022</td>\n",
       "    </tr>\n",
       "    <tr>\n",
       "      <th>1</th>\n",
       "      <td>900112515</td>\n",
       "      <td>REFINERIA DE CARTAGENA S.A.S</td>\n",
       "      <td>SUPERSOCIEDADES</td>\n",
       "      <td>Costa Atlántica</td>\n",
       "      <td>BOLIVAR</td>\n",
       "      <td>CARTAGENA-BOLIVAR</td>\n",
       "      <td>1921</td>\n",
       "      <td>MANUFACTURA</td>\n",
       "      <td>27.86</td>\n",
       "      <td>2.19</td>\n",
       "      <td>42.84</td>\n",
       "      <td>16.48</td>\n",
       "      <td>26.36</td>\n",
       "      <td>2022</td>\n",
       "    </tr>\n",
       "    <tr>\n",
       "      <th>2</th>\n",
       "      <td>830095213</td>\n",
       "      <td>ORGANIZACIÓN TERPEL S.A.</td>\n",
       "      <td>SUPERFINANCIERA</td>\n",
       "      <td>Bogotá - Cundinamarca</td>\n",
       "      <td>BOGOTA D.C.</td>\n",
       "      <td>BOGOTA D.C.-BOGOTA D.C.</td>\n",
       "      <td>4661</td>\n",
       "      <td>COMERCIO</td>\n",
       "      <td>23.60</td>\n",
       "      <td>0.33</td>\n",
       "      <td>7.48</td>\n",
       "      <td>4.47</td>\n",
       "      <td>3.01</td>\n",
       "      <td>2022</td>\n",
       "    </tr>\n",
       "    <tr>\n",
       "      <th>3</th>\n",
       "      <td>860069804</td>\n",
       "      <td>CARBONES DEL CERREJON LIMITED</td>\n",
       "      <td>SUPERSOCIEDADES</td>\n",
       "      <td>Bogotá - Cundinamarca</td>\n",
       "      <td>BOGOTA D.C.</td>\n",
       "      <td>BOGOTA D.C.-BOGOTA D.C.</td>\n",
       "      <td>510</td>\n",
       "      <td>MINERO</td>\n",
       "      <td>16.39</td>\n",
       "      <td>6.05</td>\n",
       "      <td>10.45</td>\n",
       "      <td>9.00</td>\n",
       "      <td>1.45</td>\n",
       "      <td>2022</td>\n",
       "    </tr>\n",
       "    <tr>\n",
       "      <th>4</th>\n",
       "      <td>800021308</td>\n",
       "      <td>DRUMMOND LTD</td>\n",
       "      <td>SUPERSOCIEDADES</td>\n",
       "      <td>Bogotá - Cundinamarca</td>\n",
       "      <td>BOGOTA D.C.</td>\n",
       "      <td>BOGOTA D.C.-BOGOTA D.C.</td>\n",
       "      <td>510</td>\n",
       "      <td>MINERO</td>\n",
       "      <td>15.27</td>\n",
       "      <td>2.16</td>\n",
       "      <td>14.27</td>\n",
       "      <td>6.34</td>\n",
       "      <td>7.93</td>\n",
       "      <td>2022</td>\n",
       "    </tr>\n",
       "    <tr>\n",
       "      <th>...</th>\n",
       "      <td>...</td>\n",
       "      <td>...</td>\n",
       "      <td>...</td>\n",
       "      <td>...</td>\n",
       "      <td>...</td>\n",
       "      <td>...</td>\n",
       "      <td>...</td>\n",
       "      <td>...</td>\n",
       "      <td>...</td>\n",
       "      <td>...</td>\n",
       "      <td>...</td>\n",
       "      <td>...</td>\n",
       "      <td>...</td>\n",
       "      <td>...</td>\n",
       "    </tr>\n",
       "    <tr>\n",
       "      <th>19995</th>\n",
       "      <td>900440256</td>\n",
       "      <td>EFIVENTAS Y SERVICIOS SAS</td>\n",
       "      <td>SUPERSOCIEDADES</td>\n",
       "      <td>Costa Atlántica</td>\n",
       "      <td>ATLANTICO</td>\n",
       "      <td>BARRANQUILLA-ATLANTICO</td>\n",
       "      <td>7490</td>\n",
       "      <td>SERVICIOS</td>\n",
       "      <td>0.01</td>\n",
       "      <td>0.00</td>\n",
       "      <td>0.01</td>\n",
       "      <td>0.01</td>\n",
       "      <td>0.00</td>\n",
       "      <td>2021</td>\n",
       "    </tr>\n",
       "    <tr>\n",
       "      <th>19996</th>\n",
       "      <td>890115230</td>\n",
       "      <td>QUIMIFEX SAS</td>\n",
       "      <td>SUPERSOCIEDADES</td>\n",
       "      <td>Costa Atlántica</td>\n",
       "      <td>ATLANTICO</td>\n",
       "      <td>BARRANQUILLA-ATLANTICO</td>\n",
       "      <td>4664</td>\n",
       "      <td>COMERCIO</td>\n",
       "      <td>0.01</td>\n",
       "      <td>0.00</td>\n",
       "      <td>0.01</td>\n",
       "      <td>0.01</td>\n",
       "      <td>0.00</td>\n",
       "      <td>2021</td>\n",
       "    </tr>\n",
       "    <tr>\n",
       "      <th>19997</th>\n",
       "      <td>901021850</td>\n",
       "      <td>EDGE NETWORK SERVICES COLOMBIA SAS</td>\n",
       "      <td>SUPERSOCIEDADES</td>\n",
       "      <td>Bogotá - Cundinamarca</td>\n",
       "      <td>BOGOTA D.C.</td>\n",
       "      <td>BOGOTA D.C.-BOGOTA D.C.</td>\n",
       "      <td>6190</td>\n",
       "      <td>SERVICIOS</td>\n",
       "      <td>0.01</td>\n",
       "      <td>0.00</td>\n",
       "      <td>0.04</td>\n",
       "      <td>0.00</td>\n",
       "      <td>0.04</td>\n",
       "      <td>2021</td>\n",
       "    </tr>\n",
       "    <tr>\n",
       "      <th>19998</th>\n",
       "      <td>900350192</td>\n",
       "      <td>DESTINO COMERCIAL SAS</td>\n",
       "      <td>SUPERSOCIEDADES</td>\n",
       "      <td>Antioquia</td>\n",
       "      <td>ANTIOQUIA</td>\n",
       "      <td>SABANETA-ANTIOQUIA</td>\n",
       "      <td>4771</td>\n",
       "      <td>COMERCIO</td>\n",
       "      <td>0.01</td>\n",
       "      <td>0.00</td>\n",
       "      <td>0.01</td>\n",
       "      <td>0.00</td>\n",
       "      <td>0.00</td>\n",
       "      <td>2021</td>\n",
       "    </tr>\n",
       "    <tr>\n",
       "      <th>19999</th>\n",
       "      <td>830123119</td>\n",
       "      <td>DISTRIBUIDORA DE MAQUINARIA AGRICOLA Y PECUARI...</td>\n",
       "      <td>SUPERSOCIEDADES</td>\n",
       "      <td>Bogotá - Cundinamarca</td>\n",
       "      <td>CUNDINAMARCA</td>\n",
       "      <td>CHIA-CUNDINAMARCA</td>\n",
       "      <td>4653</td>\n",
       "      <td>COMERCIO</td>\n",
       "      <td>0.01</td>\n",
       "      <td>0.00</td>\n",
       "      <td>0.01</td>\n",
       "      <td>0.01</td>\n",
       "      <td>0.00</td>\n",
       "      <td>2021</td>\n",
       "    </tr>\n",
       "  </tbody>\n",
       "</table>\n",
       "<p>20000 rows × 14 columns</p>\n",
       "</div>"
      ],
      "text/plain": [
       "             NIT                                       RAZÓN SOCIAL  \\\n",
       "0      899999068                                      ECOPETROL S.A   \n",
       "1      900112515                       REFINERIA DE CARTAGENA S.A.S   \n",
       "2      830095213                           ORGANIZACIÓN TERPEL S.A.   \n",
       "3      860069804                      CARBONES DEL CERREJON LIMITED   \n",
       "4      800021308                                       DRUMMOND LTD   \n",
       "...          ...                                                ...   \n",
       "19995  900440256                          EFIVENTAS Y SERVICIOS SAS   \n",
       "19996  890115230                                       QUIMIFEX SAS   \n",
       "19997  901021850                 EDGE NETWORK SERVICES COLOMBIA SAS   \n",
       "19998  900350192                              DESTINO COMERCIAL SAS   \n",
       "19999  830123119  DISTRIBUIDORA DE MAQUINARIA AGRICOLA Y PECUARI...   \n",
       "\n",
       "            SUPERVISOR                 REGIÓN DEPARTAMENTO DOMICILIO  \\\n",
       "0      SUPERFINANCIERA  Bogotá - Cundinamarca            BOGOTA D.C.   \n",
       "1      SUPERSOCIEDADES        Costa Atlántica                BOLIVAR   \n",
       "2      SUPERFINANCIERA  Bogotá - Cundinamarca            BOGOTA D.C.   \n",
       "3      SUPERSOCIEDADES  Bogotá - Cundinamarca            BOGOTA D.C.   \n",
       "4      SUPERSOCIEDADES  Bogotá - Cundinamarca            BOGOTA D.C.   \n",
       "...                ...                    ...                    ...   \n",
       "19995  SUPERSOCIEDADES        Costa Atlántica              ATLANTICO   \n",
       "19996  SUPERSOCIEDADES        Costa Atlántica              ATLANTICO   \n",
       "19997  SUPERSOCIEDADES  Bogotá - Cundinamarca            BOGOTA D.C.   \n",
       "19998  SUPERSOCIEDADES              Antioquia              ANTIOQUIA   \n",
       "19999  SUPERSOCIEDADES  Bogotá - Cundinamarca           CUNDINAMARCA   \n",
       "\n",
       "              CIUDAD DOMICILIO  CIIU  MACROSECTOR INGRESOS_OPERACIONALES  \\\n",
       "0      BOGOTA D.C.-BOGOTA D.C.   610       MINERO                 144.82   \n",
       "1            CARTAGENA-BOLIVAR  1921  MANUFACTURA                  27.86   \n",
       "2      BOGOTA D.C.-BOGOTA D.C.  4661     COMERCIO                  23.60   \n",
       "3      BOGOTA D.C.-BOGOTA D.C.   510       MINERO                  16.39   \n",
       "4      BOGOTA D.C.-BOGOTA D.C.   510       MINERO                  15.27   \n",
       "...                        ...   ...          ...                    ...   \n",
       "19995   BARRANQUILLA-ATLANTICO  7490    SERVICIOS                   0.01   \n",
       "19996   BARRANQUILLA-ATLANTICO  4664     COMERCIO                   0.01   \n",
       "19997  BOGOTA D.C.-BOGOTA D.C.  6190    SERVICIOS                   0.01   \n",
       "19998       SABANETA-ANTIOQUIA  4771     COMERCIO                   0.01   \n",
       "19999        CHIA-CUNDINAMARCA  4653     COMERCIO                   0.01   \n",
       "\n",
       "      GANANCIA_PERDIDA TOTAL_ACTIVOS TOTAL_PASIVOS TOTAL_PATRIMONIO  \\\n",
       "0                33.41        216.85        125.81            91.03   \n",
       "1                 2.19         42.84         16.48            26.36   \n",
       "2                 0.33          7.48          4.47             3.01   \n",
       "3                 6.05         10.45          9.00             1.45   \n",
       "4                 2.16         14.27          6.34             7.93   \n",
       "...                ...           ...           ...              ...   \n",
       "19995             0.00          0.01          0.01             0.00   \n",
       "19996             0.00          0.01          0.01             0.00   \n",
       "19997             0.00          0.04          0.00             0.04   \n",
       "19998             0.00          0.01          0.00             0.00   \n",
       "19999             0.00          0.01          0.01             0.00   \n",
       "\n",
       "       Año de Corte  \n",
       "0              2022  \n",
       "1              2022  \n",
       "2              2022  \n",
       "3              2022  \n",
       "4              2022  \n",
       "...             ...  \n",
       "19995          2021  \n",
       "19996          2021  \n",
       "19997          2021  \n",
       "19998          2021  \n",
       "19999          2021  \n",
       "\n",
       "[20000 rows x 14 columns]"
      ]
     },
     "execution_count": 29,
     "metadata": {},
     "output_type": "execute_result"
    }
   ],
   "source": [
    "df"
   ]
  },
  {
   "cell_type": "markdown",
   "id": "411b3f8b-3cf8-49d6-9f48-93722bec72ef",
   "metadata": {},
   "source": [
    "<p>Como podemos observar, los campos de las variables de ingresos operacionales, ganancia, activos, pasivos y patrimonio ya no contienen el simbolo \"$\". Además los nombres de las variables ya no tienen espacios.</p>"
   ]
  },
  {
   "cell_type": "code",
   "execution_count": 31,
   "id": "1179afc2-3b5e-4b12-8753-ea8f675ea5db",
   "metadata": {},
   "outputs": [
    {
     "name": "stdout",
     "output_type": "stream",
     "text": [
      "<class 'pandas.core.frame.DataFrame'>\n",
      "RangeIndex: 20000 entries, 0 to 19999\n",
      "Data columns (total 14 columns):\n",
      " #   Column                  Non-Null Count  Dtype \n",
      "---  ------                  --------------  ----- \n",
      " 0   NIT                     20000 non-null  int64 \n",
      " 1   RAZÓN SOCIAL            19998 non-null  object\n",
      " 2   SUPERVISOR              20000 non-null  object\n",
      " 3   REGIÓN                  20000 non-null  object\n",
      " 4   DEPARTAMENTO DOMICILIO  20000 non-null  object\n",
      " 5   CIUDAD DOMICILIO        20000 non-null  object\n",
      " 6   CIIU                    20000 non-null  int64 \n",
      " 7   MACROSECTOR             20000 non-null  object\n",
      " 8   INGRESOS_OPERACIONALES  20000 non-null  object\n",
      " 9   GANANCIA_PERDIDA        20000 non-null  object\n",
      " 10  TOTAL_ACTIVOS           20000 non-null  object\n",
      " 11  TOTAL_PASIVOS           20000 non-null  object\n",
      " 12  TOTAL_PATRIMONIO        20000 non-null  object\n",
      " 13  Año de Corte            20000 non-null  int64 \n",
      "dtypes: int64(3), object(11)\n",
      "memory usage: 2.1+ MB\n"
     ]
    }
   ],
   "source": [
    "# Revisaremos si con la limpieza realizada previamente es posible transformar el tipo de dato de algunas de las variables.\n",
    "df.info()"
   ]
  },
  {
   "cell_type": "code",
   "execution_count": 33,
   "id": "575bf9c3-a57a-4855-a8eb-e1376c2edc3c",
   "metadata": {},
   "outputs": [],
   "source": [
    "# De acuerdo con lo arrojado por la funcion .info se mantinenen los tipos de dato previos. Sin embargo como ya limpiamos las variables de valores \n",
    "# vamos a intentar transformar el tipo de dato de estas.\n",
    "\n",
    "df['INGRESOS_OPERACIONALES'] = df['INGRESOS_OPERACIONALES'].astype(float)"
   ]
  },
  {
   "cell_type": "code",
   "execution_count": 35,
   "id": "74d27f49-c76a-4524-aac1-ddcf27699758",
   "metadata": {},
   "outputs": [
    {
     "data": {
      "text/plain": [
       "0        144.82\n",
       "1         27.86\n",
       "2         23.60\n",
       "3         16.39\n",
       "4         15.27\n",
       "          ...  \n",
       "19995      0.01\n",
       "19996      0.01\n",
       "19997      0.01\n",
       "19998      0.01\n",
       "19999      0.01\n",
       "Name: INGRESOS_OPERACIONALES, Length: 20000, dtype: float64"
      ]
     },
     "execution_count": 35,
     "metadata": {},
     "output_type": "execute_result"
    }
   ],
   "source": [
    "df['INGRESOS_OPERACIONALES']"
   ]
  },
  {
   "cell_type": "markdown",
   "id": "964b8812-2a4d-4c66-ab40-5aebfd437d20",
   "metadata": {},
   "source": [
    "<p>Como podemos apreciar en la ultima linea, ahora nuestra variable es de tipo flotante (float64). Haremoss lo mismo para las otras variables a las que se les hizo limpieza previamente</p>"
   ]
  },
  {
   "cell_type": "code",
   "execution_count": 37,
   "id": "e211d444-aa4d-4610-b08d-a4111d7c404b",
   "metadata": {},
   "outputs": [],
   "source": [
    "df['GANANCIA_PERDIDA'] = df['GANANCIA_PERDIDA'].astype(float)"
   ]
  },
  {
   "cell_type": "code",
   "execution_count": 39,
   "id": "282b53b9-77a2-4356-8df1-27fb834b2a54",
   "metadata": {},
   "outputs": [],
   "source": [
    "df['TOTAL_ACTIVOS'] = df['TOTAL_ACTIVOS'].astype(float)"
   ]
  },
  {
   "cell_type": "code",
   "execution_count": 41,
   "id": "34494640-9a26-4513-94ca-c2b783cb91c5",
   "metadata": {},
   "outputs": [],
   "source": [
    "df['TOTAL_PASIVOS'] = df['TOTAL_PASIVOS'].astype(float)"
   ]
  },
  {
   "cell_type": "code",
   "execution_count": 43,
   "id": "ef769f9a-ecf0-46ed-8883-ded5f14cef0c",
   "metadata": {},
   "outputs": [],
   "source": [
    "df['TOTAL_PATRIMONIO'] = df['TOTAL_PATRIMONIO'].astype(float)"
   ]
  },
  {
   "cell_type": "code",
   "execution_count": 45,
   "id": "642b2c86-5606-4be2-af78-0d43246f41df",
   "metadata": {},
   "outputs": [
    {
     "name": "stdout",
     "output_type": "stream",
     "text": [
      "<class 'pandas.core.frame.DataFrame'>\n",
      "RangeIndex: 20000 entries, 0 to 19999\n",
      "Data columns (total 14 columns):\n",
      " #   Column                  Non-Null Count  Dtype  \n",
      "---  ------                  --------------  -----  \n",
      " 0   NIT                     20000 non-null  int64  \n",
      " 1   RAZÓN SOCIAL            19998 non-null  object \n",
      " 2   SUPERVISOR              20000 non-null  object \n",
      " 3   REGIÓN                  20000 non-null  object \n",
      " 4   DEPARTAMENTO DOMICILIO  20000 non-null  object \n",
      " 5   CIUDAD DOMICILIO        20000 non-null  object \n",
      " 6   CIIU                    20000 non-null  int64  \n",
      " 7   MACROSECTOR             20000 non-null  object \n",
      " 8   INGRESOS_OPERACIONALES  20000 non-null  float64\n",
      " 9   GANANCIA_PERDIDA        20000 non-null  float64\n",
      " 10  TOTAL_ACTIVOS           20000 non-null  float64\n",
      " 11  TOTAL_PASIVOS           20000 non-null  float64\n",
      " 12  TOTAL_PATRIMONIO        20000 non-null  float64\n",
      " 13  Año de Corte            20000 non-null  int64  \n",
      "dtypes: float64(5), int64(3), object(6)\n",
      "memory usage: 2.1+ MB\n"
     ]
    }
   ],
   "source": [
    "df.info()"
   ]
  },
  {
   "cell_type": "markdown",
   "id": "5e6c949a-d212-4c6a-8122-2304ad80d257",
   "metadata": {},
   "source": [
    "<p>Como podemos apreciar en la ultima linea, ahora tenemos 5 variables de tipo flotante (float64).</p>"
   ]
  },
  {
   "cell_type": "code",
   "execution_count": 49,
   "id": "b0c06351-7428-45f3-a9a8-d84379124320",
   "metadata": {},
   "outputs": [
    {
     "data": {
      "text/plain": [
       "count    20000.000000\n",
       "mean         0.151697\n",
       "std          1.341785\n",
       "min          0.010000\n",
       "25%          0.020000\n",
       "50%          0.040000\n",
       "75%          0.080000\n",
       "max        144.820000\n",
       "Name: INGRESOS_OPERACIONALES, dtype: float64"
      ]
     },
     "execution_count": 49,
     "metadata": {},
     "output_type": "execute_result"
    }
   ],
   "source": [
    "# Podemos realizar algunas estadísticas sobre los datos trasnformados para validar su nuevo tipo. Para ello utilizaremos la funcion .describe que \n",
    "# hace un resumen de las estadisticas descriptivas generales para columnas con datos de tipo numerico.\n",
    "\n",
    "df['INGRESOS_OPERACIONALES'].describe()"
   ]
  },
  {
   "cell_type": "code",
   "execution_count": 51,
   "id": "a22c6322-2d65-46ca-a285-c1c7c21c1a71",
   "metadata": {},
   "outputs": [
    {
     "data": {
      "text/plain": [
       "count    20000.000000\n",
       "mean         0.014228\n",
       "std          0.291474\n",
       "min         -2.100000\n",
       "25%          0.000000\n",
       "50%          0.000000\n",
       "75%          0.000000\n",
       "max         33.410000\n",
       "Name: GANANCIA_PERDIDA, dtype: float64"
      ]
     },
     "execution_count": 51,
     "metadata": {},
     "output_type": "execute_result"
    }
   ],
   "source": [
    "df['GANANCIA_PERDIDA'].describe()"
   ]
  },
  {
   "cell_type": "code",
   "execution_count": 53,
   "id": "d0e85037-4413-40e4-9a41-8c7f96330d5a",
   "metadata": {},
   "outputs": [
    {
     "data": {
      "text/plain": [
       "count    20000.000000\n",
       "mean         0.198043\n",
       "std          2.286825\n",
       "min          0.000000\n",
       "25%          0.010000\n",
       "50%          0.030000\n",
       "75%          0.080000\n",
       "max        216.850000\n",
       "Name: TOTAL_ACTIVOS, dtype: float64"
      ]
     },
     "execution_count": 53,
     "metadata": {},
     "output_type": "execute_result"
    }
   ],
   "source": [
    "df['TOTAL_ACTIVOS'].describe()"
   ]
  },
  {
   "cell_type": "code",
   "execution_count": 55,
   "id": "a2286f3f-737a-4dee-9284-bbab245881f2",
   "metadata": {},
   "outputs": [
    {
     "data": {
      "text/plain": [
       "count    20000.000000\n",
       "mean         0.098077\n",
       "std          1.264153\n",
       "min          0.000000\n",
       "25%          0.010000\n",
       "50%          0.020000\n",
       "75%          0.040000\n",
       "max        125.810000\n",
       "Name: TOTAL_PASIVOS, dtype: float64"
      ]
     },
     "execution_count": 55,
     "metadata": {},
     "output_type": "execute_result"
    }
   ],
   "source": [
    "df['TOTAL_PASIVOS'].describe()"
   ]
  },
  {
   "cell_type": "code",
   "execution_count": 57,
   "id": "239280cc-5a8c-4410-b989-e5da98146ac9",
   "metadata": {},
   "outputs": [
    {
     "data": {
      "text/plain": [
       "count    20000.000000\n",
       "mean         0.099606\n",
       "std          1.107662\n",
       "min         -3.690000\n",
       "25%          0.010000\n",
       "50%          0.010000\n",
       "75%          0.030000\n",
       "max         91.030000\n",
       "Name: TOTAL_PATRIMONIO, dtype: float64"
      ]
     },
     "execution_count": 57,
     "metadata": {},
     "output_type": "execute_result"
    }
   ],
   "source": [
    "df['TOTAL_PATRIMONIO'].describe()"
   ]
  },
  {
   "cell_type": "markdown",
   "id": "16d51575-ead3-4eb8-9a39-518f60cdfad3",
   "metadata": {},
   "source": [
    "<p>Con la aplicación de la función \".describe\" queda demostrado que las variables se transformaron de manera correcta, de una cadena de caracteres o string a un valor númerico, en este caso como se indico antes datos de tipo flotante (float) partiendo inicialmente de una limpieza de datos.</p>"
   ]
  }
 ],
 "metadata": {
  "kernelspec": {
   "display_name": "Python 3 (ipykernel)",
   "language": "python",
   "name": "python3"
  },
  "language_info": {
   "codemirror_mode": {
    "name": "ipython",
    "version": 3
   },
   "file_extension": ".py",
   "mimetype": "text/x-python",
   "name": "python",
   "nbconvert_exporter": "python",
   "pygments_lexer": "ipython3",
   "version": "3.12.4"
  }
 },
 "nbformat": 4,
 "nbformat_minor": 5
}
