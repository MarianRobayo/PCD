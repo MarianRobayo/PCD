{
 "cells": [
  {
   "cell_type": "markdown",
   "id": "649ab6dd-8044-4561-b2ae-08b9c06b6cba",
   "metadata": {},
   "source": [
    "# Maestria en Ciencia de Datos\n",
    "## Programación para la Ciencia de Datos\n",
    "### Guia 1\n",
    "### Actividad 1. Funciones y tipos de variables"
   ]
  },
  {
   "cell_type": "code",
   "execution_count": 1,
   "id": "8914ed3b-8c07-4fe2-ac5a-e430600756ed",
   "metadata": {},
   "outputs": [],
   "source": [
    "#importando la libreria de pandas para leer el conjunto de datos\n",
    "import pandas as pd"
   ]
  },
  {
   "cell_type": "code",
   "execution_count": 5,
   "id": "39333fa7-19bd-44ef-a01b-e474279c98d0",
   "metadata": {},
   "outputs": [],
   "source": [
    "#leyendo el conjunto de datos y almacenandolo en la variable df\n",
    "df = pd.read_csv ('census_income.csv')"
   ]
  },
  {
   "cell_type": "code",
   "execution_count": 9,
   "id": "93cde578-e4d7-4fea-b501-7524f810605c",
   "metadata": {
    "scrolled": true
   },
   "outputs": [
    {
     "data": {
      "text/html": [
       "<div>\n",
       "<style scoped>\n",
       "    .dataframe tbody tr th:only-of-type {\n",
       "        vertical-align: middle;\n",
       "    }\n",
       "\n",
       "    .dataframe tbody tr th {\n",
       "        vertical-align: top;\n",
       "    }\n",
       "\n",
       "    .dataframe thead th {\n",
       "        text-align: right;\n",
       "    }\n",
       "</style>\n",
       "<table border=\"1\" class=\"dataframe\">\n",
       "  <thead>\n",
       "    <tr style=\"text-align: right;\">\n",
       "      <th></th>\n",
       "      <th>Unnamed: 0</th>\n",
       "      <th>age</th>\n",
       "      <th>workclass</th>\n",
       "      <th>fnlwgt</th>\n",
       "      <th>education</th>\n",
       "      <th>education-num</th>\n",
       "      <th>marital-status</th>\n",
       "      <th>occupation</th>\n",
       "      <th>relationship</th>\n",
       "      <th>race</th>\n",
       "      <th>sex</th>\n",
       "      <th>capital-gain</th>\n",
       "      <th>capital-loss</th>\n",
       "      <th>hours-per-week</th>\n",
       "      <th>native-country</th>\n",
       "      <th>income</th>\n",
       "    </tr>\n",
       "  </thead>\n",
       "  <tbody>\n",
       "    <tr>\n",
       "      <th>0</th>\n",
       "      <td>0</td>\n",
       "      <td>39</td>\n",
       "      <td>State-gov</td>\n",
       "      <td>77516</td>\n",
       "      <td>Bachelors</td>\n",
       "      <td>13</td>\n",
       "      <td>Never-married</td>\n",
       "      <td>Adm-clerical</td>\n",
       "      <td>Not-in-family</td>\n",
       "      <td>White</td>\n",
       "      <td>Male</td>\n",
       "      <td>2174</td>\n",
       "      <td>0</td>\n",
       "      <td>40</td>\n",
       "      <td>United-States</td>\n",
       "      <td>&lt;=50K</td>\n",
       "    </tr>\n",
       "    <tr>\n",
       "      <th>1</th>\n",
       "      <td>1</td>\n",
       "      <td>50</td>\n",
       "      <td>Self-emp-not-inc</td>\n",
       "      <td>83311</td>\n",
       "      <td>Bachelors</td>\n",
       "      <td>13</td>\n",
       "      <td>Married-civ-spouse</td>\n",
       "      <td>Exec-managerial</td>\n",
       "      <td>Husband</td>\n",
       "      <td>White</td>\n",
       "      <td>Male</td>\n",
       "      <td>0</td>\n",
       "      <td>0</td>\n",
       "      <td>13</td>\n",
       "      <td>United-States</td>\n",
       "      <td>&lt;=50K</td>\n",
       "    </tr>\n",
       "    <tr>\n",
       "      <th>2</th>\n",
       "      <td>2</td>\n",
       "      <td>38</td>\n",
       "      <td>Private</td>\n",
       "      <td>215646</td>\n",
       "      <td>HS-grad</td>\n",
       "      <td>9</td>\n",
       "      <td>Divorced</td>\n",
       "      <td>Handlers-cleaners</td>\n",
       "      <td>Not-in-family</td>\n",
       "      <td>White</td>\n",
       "      <td>Male</td>\n",
       "      <td>0</td>\n",
       "      <td>0</td>\n",
       "      <td>40</td>\n",
       "      <td>United-States</td>\n",
       "      <td>&lt;=50K</td>\n",
       "    </tr>\n",
       "    <tr>\n",
       "      <th>3</th>\n",
       "      <td>3</td>\n",
       "      <td>53</td>\n",
       "      <td>Private</td>\n",
       "      <td>234721</td>\n",
       "      <td>11th</td>\n",
       "      <td>7</td>\n",
       "      <td>Married-civ-spouse</td>\n",
       "      <td>Handlers-cleaners</td>\n",
       "      <td>Husband</td>\n",
       "      <td>Black</td>\n",
       "      <td>Male</td>\n",
       "      <td>0</td>\n",
       "      <td>0</td>\n",
       "      <td>40</td>\n",
       "      <td>United-States</td>\n",
       "      <td>&lt;=50K</td>\n",
       "    </tr>\n",
       "    <tr>\n",
       "      <th>4</th>\n",
       "      <td>4</td>\n",
       "      <td>28</td>\n",
       "      <td>Private</td>\n",
       "      <td>338409</td>\n",
       "      <td>Bachelors</td>\n",
       "      <td>13</td>\n",
       "      <td>Married-civ-spouse</td>\n",
       "      <td>Prof-specialty</td>\n",
       "      <td>Wife</td>\n",
       "      <td>Black</td>\n",
       "      <td>Female</td>\n",
       "      <td>0</td>\n",
       "      <td>0</td>\n",
       "      <td>40</td>\n",
       "      <td>Cuba</td>\n",
       "      <td>&lt;=50K</td>\n",
       "    </tr>\n",
       "    <tr>\n",
       "      <th>...</th>\n",
       "      <td>...</td>\n",
       "      <td>...</td>\n",
       "      <td>...</td>\n",
       "      <td>...</td>\n",
       "      <td>...</td>\n",
       "      <td>...</td>\n",
       "      <td>...</td>\n",
       "      <td>...</td>\n",
       "      <td>...</td>\n",
       "      <td>...</td>\n",
       "      <td>...</td>\n",
       "      <td>...</td>\n",
       "      <td>...</td>\n",
       "      <td>...</td>\n",
       "      <td>...</td>\n",
       "      <td>...</td>\n",
       "    </tr>\n",
       "    <tr>\n",
       "      <th>48837</th>\n",
       "      <td>48837</td>\n",
       "      <td>39</td>\n",
       "      <td>Private</td>\n",
       "      <td>215419</td>\n",
       "      <td>Bachelors</td>\n",
       "      <td>13</td>\n",
       "      <td>Divorced</td>\n",
       "      <td>Prof-specialty</td>\n",
       "      <td>Not-in-family</td>\n",
       "      <td>White</td>\n",
       "      <td>Female</td>\n",
       "      <td>0</td>\n",
       "      <td>0</td>\n",
       "      <td>36</td>\n",
       "      <td>United-States</td>\n",
       "      <td>&lt;=50K.</td>\n",
       "    </tr>\n",
       "    <tr>\n",
       "      <th>48838</th>\n",
       "      <td>48838</td>\n",
       "      <td>64</td>\n",
       "      <td>NaN</td>\n",
       "      <td>321403</td>\n",
       "      <td>HS-grad</td>\n",
       "      <td>9</td>\n",
       "      <td>Widowed</td>\n",
       "      <td>NaN</td>\n",
       "      <td>Other-relative</td>\n",
       "      <td>Black</td>\n",
       "      <td>Male</td>\n",
       "      <td>0</td>\n",
       "      <td>0</td>\n",
       "      <td>40</td>\n",
       "      <td>United-States</td>\n",
       "      <td>&lt;=50K.</td>\n",
       "    </tr>\n",
       "    <tr>\n",
       "      <th>48839</th>\n",
       "      <td>48839</td>\n",
       "      <td>38</td>\n",
       "      <td>Private</td>\n",
       "      <td>374983</td>\n",
       "      <td>Bachelors</td>\n",
       "      <td>13</td>\n",
       "      <td>Married-civ-spouse</td>\n",
       "      <td>Prof-specialty</td>\n",
       "      <td>Husband</td>\n",
       "      <td>White</td>\n",
       "      <td>Male</td>\n",
       "      <td>0</td>\n",
       "      <td>0</td>\n",
       "      <td>50</td>\n",
       "      <td>United-States</td>\n",
       "      <td>&lt;=50K.</td>\n",
       "    </tr>\n",
       "    <tr>\n",
       "      <th>48840</th>\n",
       "      <td>48840</td>\n",
       "      <td>44</td>\n",
       "      <td>Private</td>\n",
       "      <td>83891</td>\n",
       "      <td>Bachelors</td>\n",
       "      <td>13</td>\n",
       "      <td>Divorced</td>\n",
       "      <td>Adm-clerical</td>\n",
       "      <td>Own-child</td>\n",
       "      <td>Asian-Pac-Islander</td>\n",
       "      <td>Male</td>\n",
       "      <td>5455</td>\n",
       "      <td>0</td>\n",
       "      <td>40</td>\n",
       "      <td>United-States</td>\n",
       "      <td>&lt;=50K.</td>\n",
       "    </tr>\n",
       "    <tr>\n",
       "      <th>48841</th>\n",
       "      <td>48841</td>\n",
       "      <td>35</td>\n",
       "      <td>Self-emp-inc</td>\n",
       "      <td>182148</td>\n",
       "      <td>Bachelors</td>\n",
       "      <td>13</td>\n",
       "      <td>Married-civ-spouse</td>\n",
       "      <td>Exec-managerial</td>\n",
       "      <td>Husband</td>\n",
       "      <td>White</td>\n",
       "      <td>Male</td>\n",
       "      <td>0</td>\n",
       "      <td>0</td>\n",
       "      <td>60</td>\n",
       "      <td>United-States</td>\n",
       "      <td>&gt;50K.</td>\n",
       "    </tr>\n",
       "  </tbody>\n",
       "</table>\n",
       "<p>48842 rows × 16 columns</p>\n",
       "</div>"
      ],
      "text/plain": [
       "       Unnamed: 0  age         workclass  fnlwgt  education  education-num  \\\n",
       "0               0   39         State-gov   77516  Bachelors             13   \n",
       "1               1   50  Self-emp-not-inc   83311  Bachelors             13   \n",
       "2               2   38           Private  215646    HS-grad              9   \n",
       "3               3   53           Private  234721       11th              7   \n",
       "4               4   28           Private  338409  Bachelors             13   \n",
       "...           ...  ...               ...     ...        ...            ...   \n",
       "48837       48837   39           Private  215419  Bachelors             13   \n",
       "48838       48838   64               NaN  321403    HS-grad              9   \n",
       "48839       48839   38           Private  374983  Bachelors             13   \n",
       "48840       48840   44           Private   83891  Bachelors             13   \n",
       "48841       48841   35      Self-emp-inc  182148  Bachelors             13   \n",
       "\n",
       "           marital-status         occupation    relationship  \\\n",
       "0           Never-married       Adm-clerical   Not-in-family   \n",
       "1      Married-civ-spouse    Exec-managerial         Husband   \n",
       "2                Divorced  Handlers-cleaners   Not-in-family   \n",
       "3      Married-civ-spouse  Handlers-cleaners         Husband   \n",
       "4      Married-civ-spouse     Prof-specialty            Wife   \n",
       "...                   ...                ...             ...   \n",
       "48837            Divorced     Prof-specialty   Not-in-family   \n",
       "48838             Widowed                NaN  Other-relative   \n",
       "48839  Married-civ-spouse     Prof-specialty         Husband   \n",
       "48840            Divorced       Adm-clerical       Own-child   \n",
       "48841  Married-civ-spouse    Exec-managerial         Husband   \n",
       "\n",
       "                     race     sex  capital-gain  capital-loss  hours-per-week  \\\n",
       "0                   White    Male          2174             0              40   \n",
       "1                   White    Male             0             0              13   \n",
       "2                   White    Male             0             0              40   \n",
       "3                   Black    Male             0             0              40   \n",
       "4                   Black  Female             0             0              40   \n",
       "...                   ...     ...           ...           ...             ...   \n",
       "48837               White  Female             0             0              36   \n",
       "48838               Black    Male             0             0              40   \n",
       "48839               White    Male             0             0              50   \n",
       "48840  Asian-Pac-Islander    Male          5455             0              40   \n",
       "48841               White    Male             0             0              60   \n",
       "\n",
       "      native-country  income  \n",
       "0      United-States   <=50K  \n",
       "1      United-States   <=50K  \n",
       "2      United-States   <=50K  \n",
       "3      United-States   <=50K  \n",
       "4               Cuba   <=50K  \n",
       "...              ...     ...  \n",
       "48837  United-States  <=50K.  \n",
       "48838  United-States  <=50K.  \n",
       "48839  United-States  <=50K.  \n",
       "48840  United-States  <=50K.  \n",
       "48841  United-States   >50K.  \n",
       "\n",
       "[48842 rows x 16 columns]"
      ]
     },
     "execution_count": 9,
     "metadata": {},
     "output_type": "execute_result"
    }
   ],
   "source": [
    "#mostrando el conjunto de datos\n",
    "df"
   ]
  },
  {
   "cell_type": "markdown",
   "id": "e036ed5a-e718-433c-99ac-a7bd2caf5c55",
   "metadata": {},
   "source": [
    "**1.** Descripción de los tipos de variables del conjunto de datos:"
   ]
  },
  {
   "cell_type": "code",
   "execution_count": 21,
   "id": "9bc1892f-9b05-4cd3-b4c7-24a4041998a9",
   "metadata": {},
   "outputs": [
    {
     "name": "stdout",
     "output_type": "stream",
     "text": [
      "<class 'pandas.core.frame.DataFrame'>\n",
      "RangeIndex: 48842 entries, 0 to 48841\n",
      "Data columns (total 16 columns):\n",
      " #   Column          Non-Null Count  Dtype \n",
      "---  ------          --------------  ----- \n",
      " 0   Unnamed: 0      48842 non-null  int64 \n",
      " 1   age             48842 non-null  int64 \n",
      " 2   workclass       47879 non-null  object\n",
      " 3   fnlwgt          48842 non-null  int64 \n",
      " 4   education       48842 non-null  object\n",
      " 5   education-num   48842 non-null  int64 \n",
      " 6   marital-status  48842 non-null  object\n",
      " 7   occupation      47876 non-null  object\n",
      " 8   relationship    48842 non-null  object\n",
      " 9   race            48842 non-null  object\n",
      " 10  sex             48842 non-null  object\n",
      " 11  capital-gain    48842 non-null  int64 \n",
      " 12  capital-loss    48842 non-null  int64 \n",
      " 13  hours-per-week  48842 non-null  int64 \n",
      " 14  native-country  48568 non-null  object\n",
      " 15  income          48842 non-null  object\n",
      "dtypes: int64(7), object(9)\n",
      "memory usage: 6.0+ MB\n"
     ]
    }
   ],
   "source": [
    "#1. Para la descripción de los tipos de variables utilizaremos la siguiente función:\n",
    "df.info()"
   ]
  },
  {
   "cell_type": "markdown",
   "id": "dfb924d9-f67b-48cf-946c-db5a43fd0b77",
   "metadata": {},
   "source": [
    "**1.** Descripción de los tipos de variables a paritr del resultado de la función df.info()\n",
    "\n",
    "**Variables:**\n",
    "\n",
    "De acuerdo con la penultima linea del resultado de la función ejecutada, el conjunto de datos tiene 7 variables de tipo entero y 9 de tipo categorico. A continuación se describe cada una de ellas:\n",
    "\n",
    "**1. Unnamed variable:** corresponde al ID de cada uno de los registros del conjunto de datos (entero).\n",
    "**2. \n",
    "ag:** corresponde al dato de  eda (entero).d**3. \r\n",
    "workcla:**scorresponde al tipo de trabajo (categorica).r**4. a\r\n",
    "fnl:** (entero).w**5. gt\r\n",
    "educa:**tcorresponde al ion nivel de educa (categorica).c**6. ion\r\n",
    "educatio:**ncorresponde al -num dominio del nivel de educ, es decir, a cada una de las categorias de la variable \"education\" se le asigna un valor entero (entero).a**7. ción\r\n",
    "marital-:**scorresponde al tatus estado (categorica). **8. civil\r\n",
    "occ:**ucorresponde a la pation ocu(categorica).p**9. acion \r\n",
    "rela:**tcorresponde a la ionship relación/pa (categorica).r**10. ente:**zcorresponde a la co\r\n",
    " (categorica).r**11. ace:** corresponde al raza (categorica).\r",
    "**12. \n",
    "sex sexo\r\n",
    "c:**acorresponde a las pital-gas (entero).i**13. n ganancia\r\n",
    ":**ccorresponde a las apital-s (entero).l**14. hours-per-week:** corresponde a las horas por semana (entero).\r",
    "**15. \n",
    "native-countr:**ycorresponde al  país de orige (categorica).n**16. \r\n",
    "inco:**mcorresponde a los e ingres (categorica).sincome ingresos\n"
   ]
  },
  {
   "cell_type": "markdown",
   "id": "38b0b42d-3b18-4f2b-97d1-ea25f6d88962",
   "metadata": {},
   "source": [
    "**2.1** Aplicar funciones correspondientes al tipo de variables para la cantidad de valores que hay.\n",
    "**2.2** Aplicar funciones correspondientes al tipo de variables para encontrar valores distintos.\n",
    "Se aplica la función df[\"nombre de la variable\"].value_counts() a cada una de las variables del conjunto de datos, para identificar los diferentes valores que toma la variable y la cantidad de registros que tiene cada uno de esos valores."
   ]
  },
  {
   "cell_type": "code",
   "execution_count": 55,
   "id": "8149eff1-51be-47eb-b525-bb9071544b14",
   "metadata": {
    "scrolled": true
   },
   "outputs": [
    {
     "data": {
      "text/plain": [
       "age\n",
       "36    1348\n",
       "35    1337\n",
       "33    1335\n",
       "23    1329\n",
       "31    1325\n",
       "      ... \n",
       "88       6\n",
       "85       5\n",
       "87       3\n",
       "89       2\n",
       "86       1\n",
       "Name: count, Length: 74, dtype: int64"
      ]
     },
     "execution_count": 55,
     "metadata": {},
     "output_type": "execute_result"
    }
   ],
   "source": [
    "df[\"age\"].value_counts()"
   ]
  },
  {
   "cell_type": "markdown",
   "id": "3391f4d0-4d6a-4ac6-98ae-2383fa3d996e",
   "metadata": {},
   "source": [
    "La variable age tiene 74 valores, el valor que más se repite es 36 y el de menor frecuencia es 86. Esta variable tiene datos para 48.842 registros."
   ]
  },
  {
   "cell_type": "code",
   "execution_count": 25,
   "id": "f5046ebc-7e79-423c-8199-c01ebbd2b611",
   "metadata": {},
   "outputs": [
    {
     "data": {
      "text/plain": [
       "workclass\n",
       "Private             33906\n",
       "Self-emp-not-inc     3862\n",
       "Local-gov            3136\n",
       "State-gov            1981\n",
       "?                    1836\n",
       "Self-emp-inc         1695\n",
       "Federal-gov          1432\n",
       "Without-pay            21\n",
       "Never-worked           10\n",
       "Name: count, dtype: int64"
      ]
     },
     "execution_count": 25,
     "metadata": {},
     "output_type": "execute_result"
    }
   ],
   "source": [
    "df[\"workclass\"].value_counts()"
   ]
  },
  {
   "cell_type": "markdown",
   "id": "d66cb825-295d-4c53-826e-a86679787157",
   "metadata": {},
   "source": [
    "La variable workclass tiene 8 categorias, adicionalmente hay una categoria denominada con un valor distinto \"?\" que agrupa 1836 registros. Esta variable tiene datos para 47.879 registros."
   ]
  },
  {
   "cell_type": "code",
   "execution_count": 27,
   "id": "a80a0de5-9372-453a-9fab-7de88cd7d914",
   "metadata": {},
   "outputs": [
    {
     "data": {
      "text/plain": [
       "fnlwgt\n",
       "203488    21\n",
       "120277    19\n",
       "190290    19\n",
       "125892    18\n",
       "126569    18\n",
       "          ..\n",
       "286983     1\n",
       "185942     1\n",
       "234220     1\n",
       "214706     1\n",
       "350977     1\n",
       "Name: count, Length: 28523, dtype: int64"
      ]
     },
     "execution_count": 27,
     "metadata": {},
     "output_type": "execute_result"
    }
   ],
   "source": [
    "df[\"fnlwgt\"].value_counts()"
   ]
  },
  {
   "cell_type": "markdown",
   "id": "2e2fdc03-51b9-4a28-8527-33d062ef532f",
   "metadata": {},
   "source": [
    "La variable fnlwgt tiene 28523 categorias. Esta variable tiene datos para 48.842 registros."
   ]
  },
  {
   "cell_type": "code",
   "execution_count": 29,
   "id": "7d5661ff-3474-4783-b531-c0c5712a5839",
   "metadata": {},
   "outputs": [
    {
     "data": {
      "text/plain": [
       "education\n",
       "HS-grad         15784\n",
       "Some-college    10878\n",
       "Bachelors        8025\n",
       "Masters          2657\n",
       "Assoc-voc        2061\n",
       "11th             1812\n",
       "Assoc-acdm       1601\n",
       "10th             1389\n",
       "7th-8th           955\n",
       "Prof-school       834\n",
       "9th               756\n",
       "12th              657\n",
       "Doctorate         594\n",
       "5th-6th           509\n",
       "1st-4th           247\n",
       "Preschool          83\n",
       "Name: count, dtype: int64"
      ]
     },
     "execution_count": 29,
     "metadata": {},
     "output_type": "execute_result"
    }
   ],
   "source": [
    "df[\"education\"].value_counts()"
   ]
  },
  {
   "cell_type": "markdown",
   "id": "96844289-10f1-49a9-a694-5b27f5c58fb5",
   "metadata": {},
   "source": [
    "La variable education tiene 16 categorias, la de mayor frecuencia es HS-grad y la de menor frecuencia Preschool. Esta variable tiene datos para 48.842 registros."
   ]
  },
  {
   "cell_type": "code",
   "execution_count": 31,
   "id": "11983a99-d736-460a-a969-dc458da32c1a",
   "metadata": {},
   "outputs": [
    {
     "data": {
      "text/plain": [
       "education-num\n",
       "9     15784\n",
       "10    10878\n",
       "13     8025\n",
       "14     2657\n",
       "11     2061\n",
       "7      1812\n",
       "12     1601\n",
       "6      1389\n",
       "4       955\n",
       "15      834\n",
       "5       756\n",
       "8       657\n",
       "16      594\n",
       "3       509\n",
       "2       247\n",
       "1        83\n",
       "Name: count, dtype: int64"
      ]
     },
     "execution_count": 31,
     "metadata": {},
     "output_type": "execute_result"
    }
   ],
   "source": [
    "df[\"education-num\"].value_counts()"
   ]
  },
  {
   "cell_type": "markdown",
   "id": "88236b57-1c90-46be-9518-c7edc981088d",
   "metadata": {},
   "source": [
    "La variable education-num tiene 16 categorias, la de mayor frecuencia es 9 que corresponde a HS-grad y la de menor frecuencia 1 que corresponde a Preschool.Esta variable tiene datos para 48.842 registros."
   ]
  },
  {
   "cell_type": "code",
   "execution_count": 33,
   "id": "b555d676-dfd2-49df-abce-fdd20d713e14",
   "metadata": {},
   "outputs": [
    {
     "data": {
      "text/plain": [
       "marital-status\n",
       "Married-civ-spouse       22379\n",
       "Never-married            16117\n",
       "Divorced                  6633\n",
       "Separated                 1530\n",
       "Widowed                   1518\n",
       "Married-spouse-absent      628\n",
       "Married-AF-spouse           37\n",
       "Name: count, dtype: int64"
      ]
     },
     "execution_count": 33,
     "metadata": {},
     "output_type": "execute_result"
    }
   ],
   "source": [
    "df[\"marital-status\"].value_counts()"
   ]
  },
  {
   "cell_type": "markdown",
   "id": "ad3bb401-ff8b-48a5-ae31-43133563d5c2",
   "metadata": {},
   "source": [
    "La variable marital-status tiene 7 categorias, la de mayor frecuencia es Married-civ-spouse con un total de 22.379 registros y la de menor frecuencia Married-AF-spouse con 37 registros. Esta variable tiene datos para 48.842 registros."
   ]
  },
  {
   "cell_type": "code",
   "execution_count": 35,
   "id": "a621a7ee-8036-43fd-bfc3-bf6cefc52512",
   "metadata": {},
   "outputs": [
    {
     "data": {
      "text/plain": [
       "occupation\n",
       "Prof-specialty       6172\n",
       "Craft-repair         6112\n",
       "Exec-managerial      6086\n",
       "Adm-clerical         5611\n",
       "Sales                5504\n",
       "Other-service        4923\n",
       "Machine-op-inspct    3022\n",
       "Transport-moving     2355\n",
       "Handlers-cleaners    2072\n",
       "?                    1843\n",
       "Farming-fishing      1490\n",
       "Tech-support         1446\n",
       "Protective-serv       983\n",
       "Priv-house-serv       242\n",
       "Armed-Forces           15\n",
       "Name: count, dtype: int64"
      ]
     },
     "execution_count": 35,
     "metadata": {},
     "output_type": "execute_result"
    }
   ],
   "source": [
    "df[\"occupation\"].value_counts()"
   ]
  },
  {
   "cell_type": "markdown",
   "id": "af9a0681-904b-43f9-b120-2698703a54ac",
   "metadata": {},
   "source": [
    "La variable occupation tiene 14 categorias, adicionalmente hay una categoria denominada con un valor distinto \"?\" que agrupa 1843 registros. Esta variable tiene datos para 47.876 registros."
   ]
  },
  {
   "cell_type": "code",
   "execution_count": 37,
   "id": "571a2a09-789e-466a-8f7d-9c19a135f3c5",
   "metadata": {},
   "outputs": [
    {
     "data": {
      "text/plain": [
       "relationship\n",
       "Husband           19716\n",
       "Not-in-family     12583\n",
       "Own-child          7581\n",
       "Unmarried          5125\n",
       "Wife               2331\n",
       "Other-relative     1506\n",
       "Name: count, dtype: int64"
      ]
     },
     "execution_count": 37,
     "metadata": {},
     "output_type": "execute_result"
    }
   ],
   "source": [
    "df[\"relationship\"].value_counts()"
   ]
  },
  {
   "cell_type": "markdown",
   "id": "515d17a9-e8b4-4cb9-8c62-7ef11ee4e39f",
   "metadata": {},
   "source": [
    "La variable relationship tiene 6 categorias, la de mayor frecuencia es Husband con 19.716 registros y la de menor frecuencia Other-relative con 1.506 registros. Esta variable tiene datos para 48.842 registros."
   ]
  },
  {
   "cell_type": "code",
   "execution_count": 39,
   "id": "f8cec10d-dd5c-4f2e-9de5-209e51d313b8",
   "metadata": {},
   "outputs": [
    {
     "data": {
      "text/plain": [
       "race\n",
       "White                 41762\n",
       "Black                  4685\n",
       "Asian-Pac-Islander     1519\n",
       "Amer-Indian-Eskimo      470\n",
       "Other                   406\n",
       "Name: count, dtype: int64"
      ]
     },
     "execution_count": 39,
     "metadata": {},
     "output_type": "execute_result"
    }
   ],
   "source": [
    "df[\"race\"].value_counts()"
   ]
  },
  {
   "cell_type": "markdown",
   "id": "9fce088e-cf5d-4626-b123-c7f4048e83b6",
   "metadata": {},
   "source": [
    "La variable race tiene 5 categorias, la de mayor frecuencia es White con 41.762 registros y la de menor frecuencia Other con 406 registros. Esta variable tiene datos para 48.842 registros."
   ]
  },
  {
   "cell_type": "code",
   "execution_count": 41,
   "id": "268dbe48-91e1-4b9c-adf8-900b7e088003",
   "metadata": {},
   "outputs": [
    {
     "data": {
      "text/plain": [
       "sex\n",
       "Male      32650\n",
       "Female    16192\n",
       "Name: count, dtype: int64"
      ]
     },
     "execution_count": 41,
     "metadata": {},
     "output_type": "execute_result"
    }
   ],
   "source": [
    "df[\"sex\"].value_counts()"
   ]
  },
  {
   "cell_type": "markdown",
   "id": "edb15e07-a8cb-4448-8123-678268243c03",
   "metadata": {},
   "source": [
    "La variable sex tiene 2 categorias, la de mayor frecuencia es Male con 32.650 registros y la de menor frecuencia Female con 16.192 registros. Esta variable tiene datos para 48.842 registros."
   ]
  },
  {
   "cell_type": "code",
   "execution_count": 43,
   "id": "5d3f2916-a962-40bb-b2f1-e1de6e4941ee",
   "metadata": {},
   "outputs": [
    {
     "data": {
      "text/plain": [
       "capital-gain\n",
       "0        44807\n",
       "15024      513\n",
       "7688       410\n",
       "7298       364\n",
       "99999      244\n",
       "         ...  \n",
       "22040        1\n",
       "2387         1\n",
       "1639         1\n",
       "1111         1\n",
       "6612         1\n",
       "Name: count, Length: 123, dtype: int64"
      ]
     },
     "execution_count": 43,
     "metadata": {},
     "output_type": "execute_result"
    }
   ],
   "source": [
    "df[\"capital-gain\"].value_counts()"
   ]
  },
  {
   "cell_type": "markdown",
   "id": "91133ac0-68e6-4ba8-9c70-c535a06f1846",
   "metadata": {},
   "source": [
    "La variable capital-gain tiene 123 diferentes valores, el valor de mayor frecuencia es 0 con 44.807 registros. Esta variable tiene datos para 48.842 registros."
   ]
  },
  {
   "cell_type": "code",
   "execution_count": 45,
   "id": "71c15e00-e22b-446a-a042-e954ccef8596",
   "metadata": {},
   "outputs": [
    {
     "data": {
      "text/plain": [
       "capital-loss\n",
       "0       46560\n",
       "1902      304\n",
       "1977      253\n",
       "1887      233\n",
       "2415       72\n",
       "        ...  \n",
       "1539        1\n",
       "1870        1\n",
       "1911        1\n",
       "2465        1\n",
       "1421        1\n",
       "Name: count, Length: 99, dtype: int64"
      ]
     },
     "execution_count": 45,
     "metadata": {},
     "output_type": "execute_result"
    }
   ],
   "source": [
    "df[\"capital-loss\"].value_counts()"
   ]
  },
  {
   "cell_type": "markdown",
   "id": "8ca23ea5-50fc-465d-bbe7-21c1fe8a4755",
   "metadata": {},
   "source": [
    "La variable capital-loss tiene 99 diferentes valores, el valor de mayor frecuencia es 0 con 46.560 registros. Esta variable tiene datos para 48842 registros."
   ]
  },
  {
   "cell_type": "code",
   "execution_count": 47,
   "id": "d30a4e7b-5796-47ab-8f13-47092a67291d",
   "metadata": {},
   "outputs": [
    {
     "data": {
      "text/plain": [
       "hours-per-week\n",
       "40    22803\n",
       "50     4246\n",
       "45     2717\n",
       "60     2177\n",
       "35     1937\n",
       "      ...  \n",
       "79        1\n",
       "94        1\n",
       "82        1\n",
       "87        1\n",
       "69        1\n",
       "Name: count, Length: 96, dtype: int64"
      ]
     },
     "execution_count": 47,
     "metadata": {},
     "output_type": "execute_result"
    }
   ],
   "source": [
    "df[\"hours-per-week\"].value_counts()"
   ]
  },
  {
   "cell_type": "markdown",
   "id": "8375ea0c-7bf2-49b6-a105-781cf419e534",
   "metadata": {},
   "source": [
    "La variable hours-per-week tiene 96 diferentes valores, el valor de mayor frecuencia es 40 con 22.803 registros. Esta variable tiene datos para 48.842 registros."
   ]
  },
  {
   "cell_type": "code",
   "execution_count": 49,
   "id": "73dacb91-0457-4f74-9c80-3e138fbbbb74",
   "metadata": {},
   "outputs": [
    {
     "data": {
      "text/plain": [
       "native-country\n",
       "United-States                 43832\n",
       "Mexico                          951\n",
       "?                               583\n",
       "Philippines                     295\n",
       "Germany                         206\n",
       "Puerto-Rico                     184\n",
       "Canada                          182\n",
       "El-Salvador                     155\n",
       "India                           151\n",
       "Cuba                            138\n",
       "England                         127\n",
       "China                           122\n",
       "South                           115\n",
       "Jamaica                         106\n",
       "Italy                           105\n",
       "Dominican-Republic              103\n",
       "Japan                            92\n",
       "Guatemala                        88\n",
       "Poland                           87\n",
       "Vietnam                          86\n",
       "Columbia                         85\n",
       "Haiti                            75\n",
       "Portugal                         67\n",
       "Taiwan                           65\n",
       "Iran                             59\n",
       "Greece                           49\n",
       "Nicaragua                        49\n",
       "Peru                             46\n",
       "Ecuador                          45\n",
       "France                           38\n",
       "Ireland                          37\n",
       "Hong                             30\n",
       "Thailand                         30\n",
       "Cambodia                         28\n",
       "Trinadad&Tobago                  27\n",
       "Laos                             23\n",
       "Yugoslavia                       23\n",
       "Outlying-US(Guam-USVI-etc)       23\n",
       "Scotland                         21\n",
       "Honduras                         20\n",
       "Hungary                          19\n",
       "Holand-Netherlands                1\n",
       "Name: count, dtype: int64"
      ]
     },
     "execution_count": 49,
     "metadata": {},
     "output_type": "execute_result"
    }
   ],
   "source": [
    "df[\"native-country\"].value_counts()"
   ]
  },
  {
   "cell_type": "markdown",
   "id": "ffb69eb9-53b6-44ed-ba89-ef422e45b663",
   "metadata": {},
   "source": [
    "La variable native-country tiene 41 diferentes categorias, la categoria de mayor frecuencia es United-States con 43.832 registros. Esta variable tiene datos para 48.568 registros."
   ]
  },
  {
   "cell_type": "code",
   "execution_count": 51,
   "id": "59688504-fafb-435a-91e0-822b45415d22",
   "metadata": {},
   "outputs": [
    {
     "data": {
      "text/plain": [
       "income\n",
       "<=50K     24720\n",
       "<=50K.    12435\n",
       ">50K       7841\n",
       ">50K.      3846\n",
       "Name: count, dtype: int64"
      ]
     },
     "execution_count": 51,
     "metadata": {},
     "output_type": "execute_result"
    }
   ],
   "source": [
    "df[\"income\"].value_counts()"
   ]
  },
  {
   "cell_type": "markdown",
   "id": "793bd14f-3a97-4e86-8219-9b02365a2153",
   "metadata": {},
   "source": [
    "La variable income tiene 4 diferentes categorias, sin embargo, se podrían agrupar en dos categorias, <=50K y <=50K. pueden ser una categoria y >50K con >50K. otra categoaria. Esta variable tiene datos para 48.842 registros."
   ]
  },
  {
   "cell_type": "markdown",
   "id": "f34544d1-9c0d-4e3e-839d-51123ca6fe38",
   "metadata": {},
   "source": [
    "\n"
   ]
  },
  {
   "cell_type": "markdown",
   "id": "f11074d6-31c7-4e7e-8e6e-3762c050a225",
   "metadata": {},
   "source": [
    "**2.3** Aplicar funciones correspondientes al tipo de variables para hallar los valores nulos:\n",
    "Se aplica la función df.isnull().sum() a todo el conjunto de datos."
   ]
  },
  {
   "cell_type": "code",
   "execution_count": 53,
   "id": "e2e0f930-af59-4b2e-8efb-1baa432dcfa5",
   "metadata": {},
   "outputs": [
    {
     "data": {
      "text/plain": [
       "Unnamed: 0          0\n",
       "age                 0\n",
       "workclass         963\n",
       "fnlwgt              0\n",
       "education           0\n",
       "education-num       0\n",
       "marital-status      0\n",
       "occupation        966\n",
       "relationship        0\n",
       "race                0\n",
       "sex                 0\n",
       "capital-gain        0\n",
       "capital-loss        0\n",
       "hours-per-week      0\n",
       "native-country    274\n",
       "income              0\n",
       "dtype: int64"
      ]
     },
     "execution_count": 53,
     "metadata": {},
     "output_type": "execute_result"
    }
   ],
   "source": [
    "df.isnull().sum()"
   ]
  },
  {
   "cell_type": "markdown",
   "id": "3015ad17-2108-4bef-ab6b-e82a5843029a",
   "metadata": {},
   "source": [
    "De acuerdo con el resultado anterior, hay tres variables con valores nulos dentro del conjunto de datos, workclass con 963 registros con valores nulos, occupation con 966 y native-country con 274."
   ]
  }
 ],
 "metadata": {
  "kernelspec": {
   "display_name": "Python 3 (ipykernel)",
   "language": "python",
   "name": "python3"
  },
  "language_info": {
   "codemirror_mode": {
    "name": "ipython",
    "version": 3
   },
   "file_extension": ".py",
   "mimetype": "text/x-python",
   "name": "python",
   "nbconvert_exporter": "python",
   "pygments_lexer": "ipython3",
   "version": "3.12.4"
  }
 },
 "nbformat": 4,
 "nbformat_minor": 5
}
